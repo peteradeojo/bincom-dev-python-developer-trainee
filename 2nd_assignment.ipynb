{
 "cells": [
  {
   "cell_type": "code",
   "execution_count": 1,
   "metadata": {},
   "outputs": [],
   "source": [
    "import os, re"
   ]
  },
  {
   "cell_type": "code",
   "execution_count": 22,
   "metadata": {},
   "outputs": [
    {
     "name": "stdout",
     "output_type": "stream",
     "text": [
      "Firstname: Boluwatife\n",
      "Middlename: Peter\n",
      "Lastname: Ade-Ojo\n"
     ]
    }
   ],
   "source": [
    "with open('full_name.txt', 'r') as f:\n",
    "  # name_regex = re.compile(r'/[a-zA-Z-]{1,}/')\n",
    "  name_regex = re.compile('([a-zA-Z-]+){1,}')\n",
    "  text = f.read()\n",
    "  matches = name_regex.findall(text)\n",
    "  print(f\"Firstname: {matches[0]}\")\n",
    "  print(f\"Middlename: {matches[1]}\")\n",
    "  print(f\"Lastname: {matches[2]}\")"
   ]
  },
  {
   "cell_type": "code",
   "execution_count": 25,
   "metadata": {},
   "outputs": [
    {
     "name": "stdout",
     "output_type": "stream",
     "text": [
      "/home/peter/Desktop/workspace/bincom\n"
     ]
    }
   ],
   "source": [
    "print(os.path.abspath('.'))"
   ]
  },
  {
   "cell_type": "code",
   "execution_count": 74,
   "metadata": {},
   "outputs": [
    {
     "data": {
      "text/plain": [
       "-1"
      ]
     },
     "execution_count": 74,
     "metadata": {},
     "output_type": "execute_result"
    }
   ],
   "source": [
    "names = []\n",
    "with open('baby2008.html', 'r') as f:\n",
    "    baby_name_regex = re.compile(r'<td>\\d+</td><td>(\\w+)</td><td>(\\w+)</td>')\n",
    "    text = f.read()\n",
    "    matches = baby_name_regex.findall(text)\n",
    "    # print(matches)\n",
    "    for match in matches:\n",
    "        # names.append()\n",
    "        names.append(f\"{match[0]} {match[1]}\")\n",
    "\n",
    "names.sort()\n",
    "\n",
    "\n",
    "def binary_search(arr, min, max, x='Boluwatife Ade-Ojo'):\n",
    "    if max > min:\n",
    "        mid = max + min\n",
    "\n",
    "        if arr[mid] == x:\n",
    "            return mid\n",
    "        elif arr[mid] > x:\n",
    "            return binary_search(arr, min, mid - 1, x)\n",
    "        else:\n",
    "            return binary_search(arr, mid + 1, max, x)\n",
    "    else:\n",
    "      return -1\n",
    "\n",
    "binary_search(names, 0, len(names) -1, 'Boluwatife Ade-Ojo')"
   ]
  }
 ],
 "metadata": {
  "interpreter": {
   "hash": "916dbcbb3f70747c44a77c7bcd40155683ae19c65e1c03b4aa3499c5328201f1"
  },
  "kernelspec": {
   "display_name": "Python 3.8.10 64-bit",
   "language": "python",
   "name": "python3"
  },
  "language_info": {
   "codemirror_mode": {
    "name": "ipython",
    "version": 3
   },
   "file_extension": ".py",
   "mimetype": "text/x-python",
   "name": "python",
   "nbconvert_exporter": "python",
   "pygments_lexer": "ipython3",
   "version": "3.8.10"
  },
  "orig_nbformat": 4
 },
 "nbformat": 4,
 "nbformat_minor": 2
}
